{
 "cells": [
  {
   "cell_type": "markdown",
   "id": "cdb926bd-6b77-4d3a-b433-e100f54e5603",
   "metadata": {},
   "source": [
    "<h1>Цель работы:</h1>\n",
    "Осуществить предварительную обработку данных csv-файла, выявить и устранить проблемы в этих данных."
   ]
  },
  {
   "cell_type": "markdown",
   "id": "71c0caa5-1cc1-4f3b-880a-d2c08720e15f",
   "metadata": {},
   "source": [
    "# Результат выполнения работы:"
   ]
  },
  {
   "cell_type": "markdown",
   "id": "7d855b77-4543-46a8-a349-457de82f9f23",
   "metadata": {},
   "source": [
    "Импортирована библиотека pandas и загружен датасет с использованием параметра sep, поскольку в CSV-файле в качестве разделителя был использован символ ';'."
   ]
  },
  {
   "cell_type": "code",
   "execution_count": 12,
   "id": "4782333c-b699-4d3c-b66c-c737c11980f2",
   "metadata": {},
   "outputs": [],
   "source": [
    "import pandas as pd\n",
    "df = pd.read_csv('visits.csv',sep = ';')\n"
   ]
  },
  {
   "cell_type": "markdown",
   "id": "f7407522-16e6-4035-8f34-18ea0b8f76ea",
   "metadata": {},
   "source": [
    "Вывод первых 20 строк с помощью метода head."
   ]
  },
  {
   "cell_type": "code",
   "execution_count": 15,
   "id": "0243ea71-5221-4615-b2da-c1b055dd8c58",
   "metadata": {
    "scrolled": true
   },
   "outputs": [
    {
     "data": {
      "text/html": [
       "<div>\n",
       "<style scoped>\n",
       "    .dataframe tbody tr th:only-of-type {\n",
       "        vertical-align: middle;\n",
       "    }\n",
       "\n",
       "    .dataframe tbody tr th {\n",
       "        vertical-align: top;\n",
       "    }\n",
       "\n",
       "    .dataframe thead th {\n",
       "        text-align: right;\n",
       "    }\n",
       "</style>\n",
       "<table border=\"1\" class=\"dataframe\">\n",
       "  <thead>\n",
       "    <tr style=\"text-align: right;\">\n",
       "      <th></th>\n",
       "      <th>User_Id</th>\n",
       "      <th>Region</th>\n",
       "      <th>Device</th>\n",
       "      <th>Channel</th>\n",
       "      <th>Session_Start</th>\n",
       "      <th>SESSION_End</th>\n",
       "    </tr>\n",
       "  </thead>\n",
       "  <tbody>\n",
       "    <tr>\n",
       "      <th>0</th>\n",
       "      <td>9,81449E+11</td>\n",
       "      <td>United States</td>\n",
       "      <td>iPhone</td>\n",
       "      <td>organic</td>\n",
       "      <td>01.05.2019 2:36</td>\n",
       "      <td>01.05.2019 2:45</td>\n",
       "    </tr>\n",
       "    <tr>\n",
       "      <th>1</th>\n",
       "      <td>2,78966E+11</td>\n",
       "      <td>United States</td>\n",
       "      <td>iPhone</td>\n",
       "      <td>organic</td>\n",
       "      <td>01.05.2019 4:46</td>\n",
       "      <td>01.05.2019 4:47</td>\n",
       "    </tr>\n",
       "    <tr>\n",
       "      <th>2</th>\n",
       "      <td>5,90706E+11</td>\n",
       "      <td>United States</td>\n",
       "      <td>Mac</td>\n",
       "      <td>organic</td>\n",
       "      <td>01.05.2019 14:09</td>\n",
       "      <td>01.05.2019 15:32</td>\n",
       "    </tr>\n",
       "    <tr>\n",
       "      <th>3</th>\n",
       "      <td>3,26434E+11</td>\n",
       "      <td>United States</td>\n",
       "      <td>Android</td>\n",
       "      <td>TipTop</td>\n",
       "      <td>01.05.2019 0:29</td>\n",
       "      <td>01.05.2019 0:54</td>\n",
       "    </tr>\n",
       "    <tr>\n",
       "      <th>4</th>\n",
       "      <td>3,49774E+11</td>\n",
       "      <td>United States</td>\n",
       "      <td>Mac</td>\n",
       "      <td>organic</td>\n",
       "      <td>01.05.2019 3:33</td>\n",
       "      <td>01.05.2019 3:57</td>\n",
       "    </tr>\n",
       "    <tr>\n",
       "      <th>5</th>\n",
       "      <td>43958116050</td>\n",
       "      <td>United States</td>\n",
       "      <td>Android</td>\n",
       "      <td>organic</td>\n",
       "      <td>01.05.2019 9:03</td>\n",
       "      <td>01.05.2019 10:08</td>\n",
       "    </tr>\n",
       "    <tr>\n",
       "      <th>6</th>\n",
       "      <td>1,85365E+11</td>\n",
       "      <td>United States</td>\n",
       "      <td>iPhone</td>\n",
       "      <td>organic</td>\n",
       "      <td>01.05.2019 9:37</td>\n",
       "      <td>01.05.2019 10:00</td>\n",
       "    </tr>\n",
       "    <tr>\n",
       "      <th>7</th>\n",
       "      <td>1,00971E+11</td>\n",
       "      <td>United States</td>\n",
       "      <td>Mac</td>\n",
       "      <td>TipTop</td>\n",
       "      <td>01.05.2019 4:39</td>\n",
       "      <td>01.05.2019 4:57</td>\n",
       "    </tr>\n",
       "    <tr>\n",
       "      <th>8</th>\n",
       "      <td>3,70456E+11</td>\n",
       "      <td>United States</td>\n",
       "      <td>iPhone</td>\n",
       "      <td>organic</td>\n",
       "      <td>01.05.2019 14:44</td>\n",
       "      <td>01.05.2019 15:41</td>\n",
       "    </tr>\n",
       "    <tr>\n",
       "      <th>9</th>\n",
       "      <td>1,41838E+11</td>\n",
       "      <td>United States</td>\n",
       "      <td>Mac</td>\n",
       "      <td>FaceBoom</td>\n",
       "      <td>01.05.2019 6:20</td>\n",
       "      <td>01.05.2019 6:54</td>\n",
       "    </tr>\n",
       "    <tr>\n",
       "      <th>10</th>\n",
       "      <td>9,24309E+11</td>\n",
       "      <td>United States</td>\n",
       "      <td>iPhone</td>\n",
       "      <td>organic</td>\n",
       "      <td>01.05.2019 20:03</td>\n",
       "      <td>01.05.2019 20:19</td>\n",
       "    </tr>\n",
       "    <tr>\n",
       "      <th>11</th>\n",
       "      <td>7,74938E+11</td>\n",
       "      <td>United States</td>\n",
       "      <td>iPhone</td>\n",
       "      <td>MediaTornado</td>\n",
       "      <td>01.05.2019 14:01</td>\n",
       "      <td>01.05.2019 14:29</td>\n",
       "    </tr>\n",
       "    <tr>\n",
       "      <th>12</th>\n",
       "      <td>2,44879E+11</td>\n",
       "      <td>United States</td>\n",
       "      <td>iPhone</td>\n",
       "      <td>MediaTornado</td>\n",
       "      <td>01.05.2019 1:59</td>\n",
       "      <td>01.05.2019 2:21</td>\n",
       "    </tr>\n",
       "    <tr>\n",
       "      <th>13</th>\n",
       "      <td>1,57877E+11</td>\n",
       "      <td>United States</td>\n",
       "      <td>Mac</td>\n",
       "      <td>organic</td>\n",
       "      <td>01.05.2019 10:25</td>\n",
       "      <td>01.05.2019 10:35</td>\n",
       "    </tr>\n",
       "    <tr>\n",
       "      <th>14</th>\n",
       "      <td>5,24629E+11</td>\n",
       "      <td>United States</td>\n",
       "      <td>Mac</td>\n",
       "      <td>organic</td>\n",
       "      <td>01.05.2019 17:06</td>\n",
       "      <td>01.05.2019 18:05</td>\n",
       "    </tr>\n",
       "    <tr>\n",
       "      <th>15</th>\n",
       "      <td>1,36227E+11</td>\n",
       "      <td>United States</td>\n",
       "      <td>PC</td>\n",
       "      <td>organic</td>\n",
       "      <td>01.05.2019 19:34</td>\n",
       "      <td>01.05.2019 19:39</td>\n",
       "    </tr>\n",
       "    <tr>\n",
       "      <th>16</th>\n",
       "      <td>6,84979E+11</td>\n",
       "      <td>United States</td>\n",
       "      <td>iPhone</td>\n",
       "      <td>TipTop</td>\n",
       "      <td>01.05.2019 1:51</td>\n",
       "      <td>01.05.2019 2:12</td>\n",
       "    </tr>\n",
       "    <tr>\n",
       "      <th>17</th>\n",
       "      <td>9,05776E+11</td>\n",
       "      <td>United States</td>\n",
       "      <td>iPhone</td>\n",
       "      <td>organic</td>\n",
       "      <td>01.05.2019 14:26</td>\n",
       "      <td>01.05.2019 14:35</td>\n",
       "    </tr>\n",
       "    <tr>\n",
       "      <th>18</th>\n",
       "      <td>15174034813</td>\n",
       "      <td>United States</td>\n",
       "      <td>iPhone</td>\n",
       "      <td>FaceBoom</td>\n",
       "      <td>01.05.2019 15:34</td>\n",
       "      <td>01.05.2019 15:56</td>\n",
       "    </tr>\n",
       "    <tr>\n",
       "      <th>19</th>\n",
       "      <td>1,88246E+11</td>\n",
       "      <td>United States</td>\n",
       "      <td>Android</td>\n",
       "      <td>FaceBoom</td>\n",
       "      <td>01.05.2019 23:09</td>\n",
       "      <td>01.05.2019 23:21</td>\n",
       "    </tr>\n",
       "  </tbody>\n",
       "</table>\n",
       "</div>"
      ],
      "text/plain": [
       "        User_Id         Region   Device       Channel     Session_Start  \\\n",
       "0   9,81449E+11  United States   iPhone       organic   01.05.2019 2:36   \n",
       "1   2,78966E+11  United States   iPhone       organic   01.05.2019 4:46   \n",
       "2   5,90706E+11  United States      Mac       organic  01.05.2019 14:09   \n",
       "3   3,26434E+11  United States  Android        TipTop   01.05.2019 0:29   \n",
       "4   3,49774E+11  United States      Mac       organic   01.05.2019 3:33   \n",
       "5   43958116050  United States  Android       organic   01.05.2019 9:03   \n",
       "6   1,85365E+11  United States   iPhone       organic   01.05.2019 9:37   \n",
       "7   1,00971E+11  United States      Mac        TipTop   01.05.2019 4:39   \n",
       "8   3,70456E+11  United States   iPhone       organic  01.05.2019 14:44   \n",
       "9   1,41838E+11  United States      Mac      FaceBoom   01.05.2019 6:20   \n",
       "10  9,24309E+11  United States   iPhone       organic  01.05.2019 20:03   \n",
       "11  7,74938E+11  United States   iPhone  MediaTornado  01.05.2019 14:01   \n",
       "12  2,44879E+11  United States   iPhone  MediaTornado   01.05.2019 1:59   \n",
       "13  1,57877E+11  United States      Mac       organic  01.05.2019 10:25   \n",
       "14  5,24629E+11  United States      Mac       organic  01.05.2019 17:06   \n",
       "15  1,36227E+11  United States       PC       organic  01.05.2019 19:34   \n",
       "16  6,84979E+11  United States   iPhone        TipTop   01.05.2019 1:51   \n",
       "17  9,05776E+11  United States   iPhone       organic  01.05.2019 14:26   \n",
       "18  15174034813  United States   iPhone      FaceBoom  01.05.2019 15:34   \n",
       "19  1,88246E+11  United States  Android      FaceBoom  01.05.2019 23:09   \n",
       "\n",
       "         SESSION_End  \n",
       "0    01.05.2019 2:45  \n",
       "1    01.05.2019 4:47  \n",
       "2   01.05.2019 15:32  \n",
       "3    01.05.2019 0:54  \n",
       "4    01.05.2019 3:57  \n",
       "5   01.05.2019 10:08  \n",
       "6   01.05.2019 10:00  \n",
       "7    01.05.2019 4:57  \n",
       "8   01.05.2019 15:41  \n",
       "9    01.05.2019 6:54  \n",
       "10  01.05.2019 20:19  \n",
       "11  01.05.2019 14:29  \n",
       "12   01.05.2019 2:21  \n",
       "13  01.05.2019 10:35  \n",
       "14  01.05.2019 18:05  \n",
       "15  01.05.2019 19:39  \n",
       "16   01.05.2019 2:12  \n",
       "17  01.05.2019 14:35  \n",
       "18  01.05.2019 15:56  \n",
       "19  01.05.2019 23:21  "
      ]
     },
     "execution_count": 15,
     "metadata": {},
     "output_type": "execute_result"
    }
   ],
   "source": [
    "df.head(20)"
   ]
  },
  {
   "cell_type": "markdown",
   "id": "fde00315-a439-4f8c-993a-ec578f0df554",
   "metadata": {},
   "source": [
    "Выполнен обзор данных, описаны столбцы и предметная область. Таблица содержит следующие столбцы:\n",
    "\n",
    "* user_id — уникальный идентификатор пользователя\n",
    "* region — страна пользователя\n",
    "* device — устройство пользователя\n",
    "* channel — идентификатор рекламного источника, откуда пришёл\n",
    "* session_start — дата и время начала сессии,\n",
    "* session_end — дата и время окончания сессии.\n",
    "    \n",
    "Предметная область данных связана с анализом клиентской базы."
   ]
  },
  {
   "cell_type": "markdown",
   "id": "4ea30ea4-bc70-430e-bc6e-82d0cfa6b390",
   "metadata": {},
   "source": [
    "С помощью метода info была выполнена оценка данных: проверено наличие пропусков, определено общее количество строк и определены типы данных в столбцах."
   ]
  },
  {
   "cell_type": "code",
   "execution_count": 21,
   "id": "8ad14020-4bf2-4ac0-9df5-677f1b88a3b3",
   "metadata": {},
   "outputs": [
    {
     "name": "stdout",
     "output_type": "stream",
     "text": [
      "<class 'pandas.core.frame.DataFrame'>\n",
      "RangeIndex: 957 entries, 0 to 956\n",
      "Data columns (total 6 columns):\n",
      " #   Column         Non-Null Count  Dtype \n",
      "---  ------         --------------  ----- \n",
      " 0   User_Id        957 non-null    object\n",
      " 1   Region         956 non-null    object\n",
      " 2   Device         955 non-null    object\n",
      " 3   Channel        957 non-null    object\n",
      " 4   Session_Start  955 non-null    object\n",
      " 5   SESSION_End    955 non-null    object\n",
      "dtypes: object(6)\n",
      "memory usage: 45.0+ KB\n"
     ]
    }
   ],
   "source": [
    "df.info()\n"
   ]
  },
  {
   "cell_type": "markdown",
   "id": "9aa70617-730f-4008-a510-64fa26dfd53d",
   "metadata": {},
   "source": [
    "Из полученных данных видно, что в таблице присутствуют поля с нулевыми значениями: один элемент в поле Region и по два элемента в полях Device, Session_Start и Session_End. Использован строковый тип данных. Общее количество элементов — 957."
   ]
  },
  {
   "cell_type": "markdown",
   "id": "05a2b85e-a30f-421e-aa38-e87e9da49aeb",
   "metadata": {},
   "source": [
    "Применён метод describe для оценки числовых столбцов."
   ]
  },
  {
   "cell_type": "code",
   "execution_count": 25,
   "id": "032a9ce2-7937-430e-8154-52d381e89e77",
   "metadata": {
    "scrolled": true
   },
   "outputs": [
    {
     "name": "stdout",
     "output_type": "stream",
     "text": [
      "            User_Id         Region  Device  Channel     Session_Start  \\\n",
      "count           957            956     955      957               955   \n",
      "unique          865              2       6        4               820   \n",
      "top     1,79085E+11  United States  iPhone  organic  02.05.2019 20:16   \n",
      "freq              4            955     421      612                 4   \n",
      "\n",
      "             SESSION_End  \n",
      "count                955  \n",
      "unique               836  \n",
      "top     02.05.2019 22:48  \n",
      "freq                   3  \n",
      "count             957\n",
      "unique            865\n",
      "top       1,79085E+11\n",
      "freq                4\n",
      "Name: User_Id, dtype: object\n"
     ]
    }
   ],
   "source": [
    "print(df.describe())\n",
    "print(df['User_Id'].describe())"
   ]
  },
  {
   "cell_type": "markdown",
   "id": "a496f437-9b7b-44a1-a79d-3059c2825b31",
   "metadata": {},
   "source": [
    "Исходя из полученных данных о числовом столбце, можно сделать сводку: количество уникальных пользователей составляет 865, количество ненулевых значений — 957, а также определён наибольший ID пользователя."
   ]
  },
  {
   "cell_type": "markdown",
   "id": "f63c0c1e-d5f7-4136-befe-df3dc121d6fe",
   "metadata": {},
   "source": [
    "Были выведены на экран названия столбцов с помощью df.columns."
   ]
  },
  {
   "cell_type": "code",
   "execution_count": 29,
   "id": "3dfa3b74-8c87-4297-97b3-f3af2f9be89b",
   "metadata": {},
   "outputs": [
    {
     "data": {
      "text/plain": [
       "Index(['User_Id', 'Region', 'Device', 'Channel', 'Session_Start',\n",
       "       'SESSION_End'],\n",
       "      dtype='object')"
      ]
     },
     "execution_count": 29,
     "metadata": {},
     "output_type": "execute_result"
    }
   ],
   "source": [
    "df.columns"
   ]
  },
  {
   "cell_type": "markdown",
   "id": "823058bb-10ee-438d-af9c-b040312195bd",
   "metadata": {},
   "source": [
    "Из полученной информации сделан вывод о необходимости приведения всех названий столбцов к нижнему регистру."
   ]
  },
  {
   "cell_type": "code",
   "execution_count": 32,
   "id": "9e51f2f0-1ac5-49f7-8ddb-2e5bf90fb169",
   "metadata": {},
   "outputs": [
    {
     "data": {
      "text/plain": [
       "Index(['user_id', 'region', 'device', 'channel', 'session_start',\n",
       "       'session_end'],\n",
       "      dtype='object')"
      ]
     },
     "execution_count": 32,
     "metadata": {},
     "output_type": "execute_result"
    }
   ],
   "source": [
    "df.columns = df.columns.str.strip().str.lower()\n",
    "df.columns"
   ]
  },
  {
   "cell_type": "markdown",
   "id": "469cd615-9bd2-4fff-a6c5-b443ed283ae8",
   "metadata": {},
   "source": [
    "Были устранены пропуски.\n",
    "\n",
    "Сначала были найдены пропуски в данных."
   ]
  },
  {
   "cell_type": "code",
   "execution_count": 35,
   "id": "4c9b7cd9-f72d-4048-8f0d-d0a8994e59ff",
   "metadata": {},
   "outputs": [
    {
     "name": "stdout",
     "output_type": "stream",
     "text": [
      "user_id          0\n",
      "region           1\n",
      "device           2\n",
      "channel          0\n",
      "session_start    2\n",
      "session_end      2\n",
      "dtype: int64\n"
     ]
    }
   ],
   "source": [
    "print(df.isna().sum())"
   ]
  },
  {
   "cell_type": "markdown",
   "id": "a6efeb4f-c6dc-46ba-909c-460580b09b55",
   "metadata": {},
   "source": [
    "В результате проверки данных было обнаружено, что в наборе присутствует 7 пропущенных значений. Это количество считается незначительным по сравнению с общим объёмом данных, что означает, что такие пропуски не окажут значительного влияния на результаты анализа. Учитывая это, строки с пропущенными значениями могут быть удалены без риска ухудшения качества анализа или искажения выводов.\n",
    "\n",
    "Код для удаления пропусков."
   ]
  },
  {
   "cell_type": "code",
   "execution_count": 38,
   "id": "e0ed4acc-e84d-4b2f-bba1-f499494d461d",
   "metadata": {},
   "outputs": [
    {
     "name": "stdout",
     "output_type": "stream",
     "text": [
      "user_id          0\n",
      "region           0\n",
      "device           0\n",
      "channel          0\n",
      "session_start    0\n",
      "session_end      0\n",
      "dtype: int64\n"
     ]
    }
   ],
   "source": [
    "df = df.dropna(subset=['region', 'device', 'session_start', 'session_end'])\n",
    "print(df.isna().sum())"
   ]
  },
  {
   "cell_type": "markdown",
   "id": "ea6df7a6-32a9-4308-841f-35535dfccb0e",
   "metadata": {},
   "source": [
    "Проведена работа по удалению дубликатов. Ниже представлен код для удаления явных дубликатов.\n",
    "\n",
    "Сначала были найдены дубликаты в наборе данных."
   ]
  },
  {
   "cell_type": "code",
   "execution_count": 41,
   "id": "6e2e362d-99de-4249-9227-dd286aa9320c",
   "metadata": {},
   "outputs": [
    {
     "name": "stdout",
     "output_type": "stream",
     "text": [
      "2\n"
     ]
    }
   ],
   "source": [
    "print(df.duplicated().sum())"
   ]
  },
  {
   "cell_type": "markdown",
   "id": "18bd1376-b667-4d00-92f6-0252d6a7dcda",
   "metadata": {},
   "source": [
    "Из полученной информации можно сделать вывод, что количество дубликатов составляет 2. Это незначительное количество по сравнению с общим объёмом данных, поэтому их можно удалить без опасений."
   ]
  },
  {
   "cell_type": "markdown",
   "id": "aece50ea-b893-462d-946b-fe52e798dda4",
   "metadata": {},
   "source": [
    "Код удаления явных дубликатов представлен ниже."
   ]
  },
  {
   "cell_type": "code",
   "execution_count": 48,
   "id": "bb92bd7e-aaa4-4030-92e6-675b1bc2ccd5",
   "metadata": {},
   "outputs": [
    {
     "name": "stdout",
     "output_type": "stream",
     "text": [
      "0\n"
     ]
    }
   ],
   "source": [
    "df = df.drop_duplicates()\n",
    "print(df.duplicated().sum())"
   ]
  },
  {
   "cell_type": "markdown",
   "id": "109cbe5f-95ca-41d7-9c2d-7e1f9e1160c6",
   "metadata": {},
   "source": [
    "Нахождение неявных дубликатов. Столбцы user_id, session_start и session_end не проверяются на дубликаты, так как повторение значений в них является нормальным и ожидаемым, и не оказывает значительного влияния на результаты анализа данных."
   ]
  },
  {
   "cell_type": "code",
   "execution_count": 53,
   "id": "99e4d754-5676-43ba-bbd6-641b04d4bf51",
   "metadata": {
    "scrolled": true
   },
   "outputs": [
    {
     "name": "stdout",
     "output_type": "stream",
     "text": [
      "['United States' 'USA']\n",
      "['iPhone' 'Mac' 'Android' 'PC' 'MAC' 'IPHONE']\n",
      "['organic' 'TipTop' 'FaceBoom' 'MediaTornado']\n"
     ]
    }
   ],
   "source": [
    "print(df['region'].unique())\n",
    "print(df['device'].unique())\n",
    "print(df['channel'].unique())"
   ]
  },
  {
   "cell_type": "markdown",
   "id": "bf4d2f70-7c80-4b67-afff-06de2a39d5e4",
   "metadata": {},
   "source": [
    "В столбцах region и device были обнаружены и исправлены неявные дубликаты. Ниже представлен код для их исправления."
   ]
  },
  {
   "cell_type": "code",
   "execution_count": 56,
   "id": "5c6f6a2f-bc09-4db1-a48f-13658f66ac7d",
   "metadata": {},
   "outputs": [
    {
     "name": "stdout",
     "output_type": "stream",
     "text": [
      "['United States' 'USA']\n",
      "\n",
      "\n",
      "region\n",
      "United States    951\n",
      "USA                1\n",
      "Name: count, dtype: int64\n",
      "\n",
      "\n",
      "region\n",
      "United States    952\n",
      "Name: count, dtype: int64\n",
      "\n",
      "\n",
      "['iPhone' 'Mac' 'Android' 'PC' 'MAC' 'IPHONE']\n",
      "\n",
      "\n",
      "device\n",
      "iPhone     420\n",
      "Mac        241\n",
      "Android    185\n",
      "PC         103\n",
      "IPHONE       2\n",
      "MAC          1\n",
      "Name: count, dtype: int64\n",
      "\n",
      "\n",
      "device\n",
      "iPhone     422\n",
      "Mac        242\n",
      "Android    185\n",
      "PC         103\n",
      "Name: count, dtype: int64\n"
     ]
    }
   ],
   "source": [
    "print(df['region'].unique())\n",
    "print(\"\\n\")\n",
    "print(df['region'].value_counts())\n",
    "print(\"\\n\")\n",
    "df['region'] = df['region'].replace('USA', 'United States')\n",
    "print(df['region'].value_counts())\n",
    "print(\"\\n\")\n",
    "print(df['device'].unique())\n",
    "print(\"\\n\")\n",
    "print(df['device'].value_counts())\n",
    "print(\"\\n\")\n",
    "df['device'] = df['device'].replace({'MAC': 'Mac', 'IPHONE': 'iPhone'})\n",
    "print(df['device'].value_counts())"
   ]
  },
  {
   "cell_type": "markdown",
   "id": "04cb7e28-f333-48e0-9cf7-5a73739a240c",
   "metadata": {},
   "source": [
    "Проверены типы данных столбцов таблицы."
   ]
  },
  {
   "cell_type": "code",
   "execution_count": 59,
   "id": "73537296-6c36-40f9-84aa-2e52341533d7",
   "metadata": {},
   "outputs": [
    {
     "name": "stdout",
     "output_type": "stream",
     "text": [
      "user_id          object\n",
      "region           object\n",
      "device           object\n",
      "channel          object\n",
      "session_start    object\n",
      "session_end      object\n",
      "dtype: object\n"
     ]
    }
   ],
   "source": [
    "print(df.dtypes)"
   ]
  },
  {
   "cell_type": "markdown",
   "id": "107ddd0d-7d4f-4256-8df3-a4bfee5e689d",
   "metadata": {},
   "source": [
    "Из полученной информации видно, что все столбцы имеют тип object, что является ошибкой. Необходимо изменить типы данных для соответствия действительности: user_id следует привести к типу int64, а session_start и session_end — к типу datetime."
   ]
  },
  {
   "cell_type": "code",
   "execution_count": 62,
   "id": "8fa0da78-a47d-430b-a0e3-05ab975a7c67",
   "metadata": {},
   "outputs": [
    {
     "name": "stdout",
     "output_type": "stream",
     "text": [
      "\n",
      "\n",
      "user_id                   int64\n",
      "region                   object\n",
      "device                   object\n",
      "channel                  object\n",
      "session_start    datetime64[ns]\n",
      "session_end      datetime64[ns]\n",
      "dtype: object\n"
     ]
    }
   ],
   "source": [
    "df['user_id'] = df['user_id'].str.replace(',', '')\n",
    "df['user_id'] = pd.to_numeric(df['user_id'], errors='raise')\n",
    "df['user_id'] = df['user_id'].astype('int64')\n",
    "df['session_start'] = pd.to_datetime(df['session_start'], format='%d.%m.%Y %H:%M')\n",
    "df['session_end'] = pd.to_datetime(df['session_end'], format='%d.%m.%Y %H:%M')\n",
    "print(\"\\n\")\n",
    "print(df.dtypes)"
   ]
  },
  {
   "cell_type": "markdown",
   "id": "9bdb471c-7aeb-4c51-b97b-42c697171d22",
   "metadata": {},
   "source": [
    "Осуществлена группировка и созданы сводные таблицы в соответствии с заданием.\n",
    "\n",
    "Задание 1: Группировка - region и количество устройств (device)."
   ]
  },
  {
   "cell_type": "code",
   "execution_count": 65,
   "id": "f708ab09-93d1-412d-a3cf-f92ee68c7a84",
   "metadata": {},
   "outputs": [
    {
     "name": "stdout",
     "output_type": "stream",
     "text": [
      "region         device \n",
      "United States  Android    185\n",
      "               Mac        242\n",
      "               PC         103\n",
      "               iPhone     422\n",
      "Name: device, dtype: int64\n"
     ]
    }
   ],
   "source": [
    "print(df.groupby(['region','device'])['device'].count())"
   ]
  },
  {
   "cell_type": "markdown",
   "id": "dfeb5d15-09d6-4959-8e84-7fa1475cfbe2",
   "metadata": {},
   "source": [
    "Наибольшее количество устройств в Соединённых Штатах представлено iPhone, что свидетельствует о его популярности среди пользователей. Также активно используются Android (185), Mac (242) и PC (103), что указывает на разнообразие устройств. Наименьшая доля PC может свидетельствовать о смещении предпочтений в сторону мобильных устройств. Эти данные могут быть полезны для дальнейшего анализа потребительских предпочтений и адаптации маркетинговых стратегий."
   ]
  },
  {
   "cell_type": "markdown",
   "id": "557f1ed6-b0b9-4561-a078-25236057fead",
   "metadata": {},
   "source": [
    "Задание 2: Группировка - region и количество устройств (device). Создать датафрейм. Переименовать столбец с количеством в “сountˮ. Отсортировать по убыванию столбца “countˮ."
   ]
  },
  {
   "cell_type": "code",
   "execution_count": 70,
   "id": "c540d0d7-6fa2-4045-91a0-9eba4a9a2d36",
   "metadata": {},
   "outputs": [
    {
     "name": "stdout",
     "output_type": "stream",
     "text": [
      "          region   device  count\n",
      "3  United States   iPhone    422\n",
      "1  United States      Mac    242\n",
      "0  United States  Android    185\n",
      "2  United States       PC    103\n"
     ]
    }
   ],
   "source": [
    "group = df.groupby(['region','device'])['device'].count().reset_index(name='count').sort_values(by='count', ascending = False)\n",
    "print(group)"
   ]
  },
  {
   "cell_type": "markdown",
   "id": "00a91d29-4d75-4289-9ac7-5a03bc6c86fc",
   "metadata": {},
   "source": [
    "На основе представленной таблицы можно сделать вывод, что в Соединённых Штатах наибольшее количество пользователей используют iPhone (422), что указывает на его популярность. Устройства Mac занимают второе место (242), что свидетельствует о значительном интересе к продукции Apple. Android находится на третьем месте с 185 устройствами, что демонстрирует разнообразие платформ. Наименьшее количество пользователей (103) использует ПК, что может указывать на смещение предпочтений в сторону мобильных устройств. Эти данные подчеркивают необходимость адаптации маркетинговых стратегий в соответствии с потребительскими предпочтениями."
   ]
  },
  {
   "cell_type": "markdown",
   "id": "e2bde186-5723-440a-8326-dbd63ffe8dd0",
   "metadata": {},
   "source": [
    "Задание 3: Сводная таблица (pivot_table) - количество пользователей для каждого канала (channel). Отсортировать по убыванию количества."
   ]
  },
  {
   "cell_type": "code",
   "execution_count": 77,
   "id": "19a814c5-7dc5-4788-a058-22013fdef17c",
   "metadata": {},
   "outputs": [
    {
     "name": "stdout",
     "output_type": "stream",
     "text": [
      "              user_id\n",
      "channel              \n",
      "organic           608\n",
      "FaceBoom          149\n",
      "TipTop            142\n",
      "MediaTornado       53\n"
     ]
    }
   ],
   "source": [
    "pivot_table =  df.pivot_table(index='channel', values='user_id', aggfunc='count').sort_values(by='user_id', ascending=False)\n",
    "print(pivot_table)"
   ]
  },
  {
   "cell_type": "markdown",
   "id": "c91ba57d-4585-44d6-9eaf-282423ed392a",
   "metadata": {},
   "source": [
    "\n",
    "На основе представленной таблицы можно сделать вывод, что наибольшее количество пользователей пришло через канал organic (608), что указывает на его высокую эффективность в привлечении клиентов. FaceBoom занимает второе место с 149 пользователями, что свидетельствует о его значимости. Канал TipTop следует за ним с 142 пользователями, показывая схожие результаты. В то же время MediaTornado привлёк всего 53 пользователя, что говорит о его низкой эффективности. Эти данные подчеркивают необходимость сосредоточения усилий на эффективных каналах и анализа менее результативных для повышения их эффективности."
   ]
  },
  {
   "cell_type": "markdown",
   "id": "f6ec102f-08d7-4a76-9e4b-f84cd5e4c42d",
   "metadata": {},
   "source": [
    "Задание 4: Сводная таблица (pivot_table) - уникальное количество пользователей для каждого устройства (device) - столбцы и региона- строки. Отсортировать по возрастанию столбца region."
   ]
  },
  {
   "cell_type": "code",
   "execution_count": 83,
   "id": "f217d66c-9510-4a95-b86f-8363eb7f962d",
   "metadata": {},
   "outputs": [
    {
     "name": "stdout",
     "output_type": "stream",
     "text": [
      "device         Android  Mac  PC  iPhone\n",
      "region                                 \n",
      "United States      169  223  90     384\n"
     ]
    }
   ],
   "source": [
    "pivot_table2 = df.pivot_table(values='user_id',  index='region',  columns='device',  aggfunc='nunique').sort_index(ascending=True)\n",
    "print(pivot_table2)"
   ]
  },
  {
   "cell_type": "markdown",
   "id": "fd57b67e-794d-49db-a9a3-d63114eaec19",
   "metadata": {},
   "source": [
    "На основе представленной таблицы можно сделать вывод, что в Соединённых Штатах наибольшее количество пользователей использует iPhone (384), что указывает на его популярность. Устройства Mac занимают второе место с 223 пользователями, что также свидетельствует о значительном интересе к этой платформе. Android имеет 169 пользователей, тогда как PC занимает наименьшую долю с 90 пользователями. Эти данные указывают на смещение предпочтений в сторону мобильных устройств и демонстрируют разнообразие используемых платформ, что может быть полезно для анализа потребительских предпочтений и адаптации маркетинговых стратегий."
   ]
  },
  {
   "cell_type": "markdown",
   "id": "ddd98d68-268b-4431-8cef-456eff169a15",
   "metadata": {},
   "source": [
    "# Вывод¶"
   ]
  },
  {
   "cell_type": "markdown",
   "id": "9e0ff66e-4903-428f-a4c8-b82a66f4bfc8",
   "metadata": {},
   "source": [
    "В ходе выполнения лабораторной работы были приобретены важные практические навыки работы с библиотекой pandas, что позволило проводить всесторонний анализ и обработку данных. Основной фокус был сделан на анализе данных, включающем этапы предварительной обработки, такие как очистка данных от пропусков и неявных дубликатов, а также приведение типов данных в соответствии с требованиями задачи.\n",
    "\n",
    "Были освоены ключевые техники группировки и агрегации данных, что является основой при работе с большими и структурированными наборами данных. Создание сводных таблиц дало возможность провести анализ по различным признакам (например, устройствам и каналам), что позволяет делать более детализированные выводы о поведении пользователей и специфике их взаимодействия с системой.\n",
    "\n",
    "В контексте предметной области анализа данных, эти навыки играют важную роль при работе с реальными датасетами, где данные часто бывают неидеальными, и их корректная обработка имеет критическое значение для получения качественных и точных выводов. Сформированные навыки анализа позволяют масштабировать данные и применять их к решению практических задач.\n",
    "\n",
    "Таким образом, выполнение всех заданий и работа с предложенным датасетом закрепили знания в области анализа данных и показали важность правильной обработки информации для принятия обоснованных решений на основе данных."
   ]
  }
 ],
 "metadata": {
  "kernelspec": {
   "display_name": "Python 3 (ipykernel)",
   "language": "python",
   "name": "python3"
  },
  "language_info": {
   "codemirror_mode": {
    "name": "ipython",
    "version": 3
   },
   "file_extension": ".py",
   "mimetype": "text/x-python",
   "name": "python",
   "nbconvert_exporter": "python",
   "pygments_lexer": "ipython3",
   "version": "3.10.14"
  }
 },
 "nbformat": 4,
 "nbformat_minor": 5
}
