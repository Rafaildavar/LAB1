{
 "cells": [
  {
   "cell_type": "markdown",
   "id": "bc8160e3-a995-4d11-8d1d-1b0dcd5f43b1",
   "metadata": {},
   "source": [
    "Импортируем нужные библиотеки"
   ]
  },
  {
   "cell_type": "code",
   "execution_count": 1,
   "id": "4782333c-b699-4d3c-b66c-c737c11980f2",
   "metadata": {},
   "outputs": [],
   "source": [
    "import pandas as pd\n",
    "df = pd.read_csv('visits.csv',sep = ';')\n"
   ]
  },
  {
   "cell_type": "markdown",
   "id": "584f636c-cceb-4f75-b704-d55f14d586b1",
   "metadata": {},
   "source": [
    "Выводим первые 20 строк датасета"
   ]
  },
  {
   "cell_type": "code",
   "execution_count": 3,
   "id": "0243ea71-5221-4615-b2da-c1b055dd8c58",
   "metadata": {
    "scrolled": true
   },
   "outputs": [
    {
     "data": {
      "text/html": [
       "<div>\n",
       "<style scoped>\n",
       "    .dataframe tbody tr th:only-of-type {\n",
       "        vertical-align: middle;\n",
       "    }\n",
       "\n",
       "    .dataframe tbody tr th {\n",
       "        vertical-align: top;\n",
       "    }\n",
       "\n",
       "    .dataframe thead th {\n",
       "        text-align: right;\n",
       "    }\n",
       "</style>\n",
       "<table border=\"1\" class=\"dataframe\">\n",
       "  <thead>\n",
       "    <tr style=\"text-align: right;\">\n",
       "      <th></th>\n",
       "      <th>User_Id</th>\n",
       "      <th>Region</th>\n",
       "      <th>Device</th>\n",
       "      <th>Channel</th>\n",
       "      <th>Session_Start</th>\n",
       "      <th>SESSION_End</th>\n",
       "    </tr>\n",
       "  </thead>\n",
       "  <tbody>\n",
       "    <tr>\n",
       "      <th>0</th>\n",
       "      <td>9,81449E+11</td>\n",
       "      <td>United States</td>\n",
       "      <td>iPhone</td>\n",
       "      <td>organic</td>\n",
       "      <td>01.05.2019 2:36</td>\n",
       "      <td>01.05.2019 2:45</td>\n",
       "    </tr>\n",
       "    <tr>\n",
       "      <th>1</th>\n",
       "      <td>2,78966E+11</td>\n",
       "      <td>United States</td>\n",
       "      <td>iPhone</td>\n",
       "      <td>organic</td>\n",
       "      <td>01.05.2019 4:46</td>\n",
       "      <td>01.05.2019 4:47</td>\n",
       "    </tr>\n",
       "    <tr>\n",
       "      <th>2</th>\n",
       "      <td>5,90706E+11</td>\n",
       "      <td>United States</td>\n",
       "      <td>Mac</td>\n",
       "      <td>organic</td>\n",
       "      <td>01.05.2019 14:09</td>\n",
       "      <td>01.05.2019 15:32</td>\n",
       "    </tr>\n",
       "    <tr>\n",
       "      <th>3</th>\n",
       "      <td>3,26434E+11</td>\n",
       "      <td>United States</td>\n",
       "      <td>Android</td>\n",
       "      <td>TipTop</td>\n",
       "      <td>01.05.2019 0:29</td>\n",
       "      <td>01.05.2019 0:54</td>\n",
       "    </tr>\n",
       "    <tr>\n",
       "      <th>4</th>\n",
       "      <td>3,49774E+11</td>\n",
       "      <td>United States</td>\n",
       "      <td>Mac</td>\n",
       "      <td>organic</td>\n",
       "      <td>01.05.2019 3:33</td>\n",
       "      <td>01.05.2019 3:57</td>\n",
       "    </tr>\n",
       "  </tbody>\n",
       "</table>\n",
       "</div>"
      ],
      "text/plain": [
       "       User_Id         Region   Device  Channel     Session_Start  \\\n",
       "0  9,81449E+11  United States   iPhone  organic   01.05.2019 2:36   \n",
       "1  2,78966E+11  United States   iPhone  organic   01.05.2019 4:46   \n",
       "2  5,90706E+11  United States      Mac  organic  01.05.2019 14:09   \n",
       "3  3,26434E+11  United States  Android   TipTop   01.05.2019 0:29   \n",
       "4  3,49774E+11  United States      Mac  organic   01.05.2019 3:33   \n",
       "\n",
       "        SESSION_End  \n",
       "0   01.05.2019 2:45  \n",
       "1   01.05.2019 4:47  \n",
       "2  01.05.2019 15:32  \n",
       "3   01.05.2019 0:54  \n",
       "4   01.05.2019 3:57  "
      ]
     },
     "execution_count": 3,
     "metadata": {},
     "output_type": "execute_result"
    }
   ],
   "source": [
    "df.head()"
   ]
  },
  {
   "cell_type": "code",
   "execution_count": 5,
   "id": "8ad14020-4bf2-4ac0-9df5-677f1b88a3b3",
   "metadata": {},
   "outputs": [
    {
     "name": "stdout",
     "output_type": "stream",
     "text": [
      "<class 'pandas.core.frame.DataFrame'>\n",
      "RangeIndex: 957 entries, 0 to 956\n",
      "Data columns (total 6 columns):\n",
      " #   Column         Non-Null Count  Dtype \n",
      "---  ------         --------------  ----- \n",
      " 0   User_Id        957 non-null    object\n",
      " 1   Region         956 non-null    object\n",
      " 2   Device         955 non-null    object\n",
      " 3   Channel        957 non-null    object\n",
      " 4   Session_Start  955 non-null    object\n",
      " 5   SESSION_End    955 non-null    object\n",
      "dtypes: object(6)\n",
      "memory usage: 45.0+ KB\n"
     ]
    }
   ],
   "source": [
    "df.info()\n"
   ]
  },
  {
   "cell_type": "code",
   "execution_count": 7,
   "id": "032a9ce2-7937-430e-8154-52d381e89e77",
   "metadata": {
    "scrolled": true
   },
   "outputs": [
    {
     "data": {
      "text/plain": [
       "<bound method NDFrame.describe of          User_Id         Region   Device   Channel     Session_Start  \\\n",
       "0    9,81449E+11  United States   iPhone   organic   01.05.2019 2:36   \n",
       "1    2,78966E+11  United States   iPhone   organic   01.05.2019 4:46   \n",
       "2    5,90706E+11  United States      Mac   organic  01.05.2019 14:09   \n",
       "3    3,26434E+11  United States  Android    TipTop   01.05.2019 0:29   \n",
       "4    3,49774E+11  United States      Mac   organic   01.05.2019 3:33   \n",
       "..           ...            ...      ...       ...               ...   \n",
       "952  5,55066E+11  United States   iPhone    TipTop  04.05.2019 23:32   \n",
       "953  7,71716E+11  United States  Android    TipTop  04.05.2019 19:32   \n",
       "954  74352279110  United States   iPhone    TipTop   04.05.2019 0:13   \n",
       "955  6,08683E+11  United States  Android  FaceBoom   04.05.2019 3:33   \n",
       "956  8,75326E+11  United States      Mac   organic   04.05.2019 3:01   \n",
       "\n",
       "          SESSION_End  \n",
       "0     01.05.2019 2:45  \n",
       "1     01.05.2019 4:47  \n",
       "2    01.05.2019 15:32  \n",
       "3     01.05.2019 0:54  \n",
       "4     01.05.2019 3:57  \n",
       "..                ...  \n",
       "952  04.05.2019 23:38  \n",
       "953  04.05.2019 19:48  \n",
       "954   04.05.2019 0:26  \n",
       "955   04.05.2019 3:46  \n",
       "956   04.05.2019 3:15  \n",
       "\n",
       "[957 rows x 6 columns]>"
      ]
     },
     "execution_count": 7,
     "metadata": {},
     "output_type": "execute_result"
    }
   ],
   "source": [
    "df.describe"
   ]
  },
  {
   "cell_type": "code",
   "execution_count": 25,
   "id": "99e4d754-5676-43ba-bbd6-641b04d4bf51",
   "metadata": {
    "scrolled": true
   },
   "outputs": [
    {
     "name": "stdout",
     "output_type": "stream",
     "text": [
      "          User_Id         Region   Device   Channel     Session_Start  \\\n",
      "0    981449000000  United States   iPhone   organic   01.05.2019 2:36   \n",
      "1    278966000000  United States   iPhone   organic   01.05.2019 4:46   \n",
      "2    590706000000  United States      Mac   organic  01.05.2019 14:09   \n",
      "3    326434000000  United States  Android    TipTop   01.05.2019 0:29   \n",
      "4    349774000000  United States      Mac   organic   01.05.2019 3:33   \n",
      "..            ...            ...      ...       ...               ...   \n",
      "952  555066000000  United States   iPhone    TipTop  04.05.2019 23:32   \n",
      "953  771716000000  United States  Android    TipTop  04.05.2019 19:32   \n",
      "954   74352279110  United States   iPhone    TipTop   04.05.2019 0:13   \n",
      "955  608683000000  United States  Android  FaceBoom   04.05.2019 3:33   \n",
      "956  875326000000  United States      Mac   organic   04.05.2019 3:01   \n",
      "\n",
      "          SESSION_End  \n",
      "0     01.05.2019 2:45  \n",
      "1     01.05.2019 4:47  \n",
      "2    01.05.2019 15:32  \n",
      "3     01.05.2019 0:54  \n",
      "4     01.05.2019 3:57  \n",
      "..                ...  \n",
      "952  04.05.2019 23:38  \n",
      "953  04.05.2019 19:48  \n",
      "954   04.05.2019 0:26  \n",
      "955   04.05.2019 3:46  \n",
      "956   04.05.2019 3:15  \n",
      "\n",
      "[957 rows x 6 columns]\n"
     ]
    }
   ],
   "source": [
    "df['User_Id'] = df['User_Id'].apply(lambda x: int(float(x.replace(',','.'))))\n",
    "print(df)"
   ]
  },
  {
   "cell_type": "code",
   "execution_count": null,
   "id": "4c17182a-e1d3-465f-bc72-a00387d4b116",
   "metadata": {},
   "outputs": [],
   "source": []
  }
 ],
 "metadata": {
  "kernelspec": {
   "display_name": "Python 3 (ipykernel)",
   "language": "python",
   "name": "python3"
  },
  "language_info": {
   "codemirror_mode": {
    "name": "ipython",
    "version": 3
   },
   "file_extension": ".py",
   "mimetype": "text/x-python",
   "name": "python",
   "nbconvert_exporter": "python",
   "pygments_lexer": "ipython3",
   "version": "3.10.14"
  }
 },
 "nbformat": 4,
 "nbformat_minor": 5
}
